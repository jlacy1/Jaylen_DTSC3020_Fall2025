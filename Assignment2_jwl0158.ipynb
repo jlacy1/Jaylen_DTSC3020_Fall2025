{
  "nbformat": 4,
  "nbformat_minor": 0,
  "metadata": {
    "colab": {
      "provenance": [],
      "authorship_tag": "ABX9TyOiYAZ3H7ae7ftTw2K2mbme",
      "include_colab_link": true
    },
    "kernelspec": {
      "name": "python3",
      "display_name": "Python 3"
    },
    "language_info": {
      "name": "python"
    }
  },
  "cells": [
    {
      "cell_type": "markdown",
      "metadata": {
        "id": "view-in-github",
        "colab_type": "text"
      },
      "source": [
        "<a href=\"https://colab.research.google.com/github/jlacy1/Jaylen_DTSC3020_Fall2025/blob/main/Assignment2_jwl0158.ipynb\" target=\"_parent\"><img src=\"https://colab.research.google.com/assets/colab-badge.svg\" alt=\"Open In Colab\"/></a>"
      ]
    },
    {
      "cell_type": "code",
      "execution_count": null,
      "metadata": {
        "colab": {
          "base_uri": "https://localhost:8080/"
        },
        "id": "SflAutGoKknk",
        "outputId": "2f83fa02-66e2-4153-b1be-d891a65bf93d"
      },
      "outputs": [
        {
          "output_type": "stream",
          "name": "stdout",
          "text": [
            "['Orange', 'Canalope', 'Pinapple']\n",
            "Orange\n",
            "Canalope\n",
            "Pinapple\n"
          ]
        }
      ],
      "source": [
        "#Here is a list with 3 fruits\n",
        "fruits = [\"Orange\",\"Canalope\",\"Pinapple\"]\n",
        "print(fruits)\n",
        "\n",
        "#Print each item separately\n",
        "print(fruits[0])\n",
        "print(fruits[1])\n",
        "print(fruits[2])"
      ]
    },
    {
      "cell_type": "code",
      "source": [
        "#Here is a list with 4 names and the first name was changed with a different one\n",
        "Names = [\"John\",\"Jeffery\",\"Ashley\",\"Ximena\"]\n",
        "Names[0] = 'Issac'\n",
        "print(Names)"
      ],
      "metadata": {
        "colab": {
          "base_uri": "https://localhost:8080/"
        },
        "id": "CgycZFCPR0cu",
        "outputId": "0b93179f-f266-4a05-dd95-0db3d902029f"
      },
      "execution_count": null,
      "outputs": [
        {
          "output_type": "stream",
          "name": "stdout",
          "text": [
            "['Issac', 'Jeffery', 'Ashley', 'Ximena']\n"
          ]
        }
      ]
    },
    {
      "cell_type": "code",
      "source": [
        "#A list with 5 Vehicles and a new vehicle added at the end.\n",
        "Vehicles = [\"Moterbike\",\"Bus\",\"Car\",\"Truck\",\"Van\"]\n",
        "Vehicles.append('Scooter')\n",
        "print(Vehicles)"
      ],
      "metadata": {
        "colab": {
          "base_uri": "https://localhost:8080/"
        },
        "id": "MLAep3GBUkEi",
        "outputId": "264334c5-e9cd-4308-8371-4452c5e025ea"
      },
      "execution_count": null,
      "outputs": [
        {
          "output_type": "stream",
          "name": "stdout",
          "text": [
            "['Moterbike', 'Bus', 'Car', 'Truck', 'Van', 'Scooter']\n"
          ]
        }
      ]
    },
    {
      "cell_type": "code",
      "source": [
        "#A list with 6 foods and then one food removed from the list\n",
        "Foods = [\"Pasta\",\"Pizza\",\"Soup\",\"Salad\",\"Sandwich\"]\n",
        "Foods.remove(\"Sandwich\")\n",
        "print(Foods)"
      ],
      "metadata": {
        "colab": {
          "base_uri": "https://localhost:8080/"
        },
        "id": "ZNMx6ZnUUqLv",
        "outputId": "689d63f3-8ee2-4ae1-a6e4-0b553d5eda2b"
      },
      "execution_count": null,
      "outputs": [
        {
          "output_type": "stream",
          "name": "stdout",
          "text": [
            "['Pasta', 'Pizza', 'Soup', 'Salad']\n"
          ]
        }
      ]
    },
    {
      "cell_type": "code",
      "source": [
        "#A list with 4 Cities sorted in alphabetical order\n",
        "Cities = [\"Aubrey\",\"Prosper\",\"Denton\",\"St.Petersburg\"]\n",
        "Cities.sort()\n",
        "print(Cities)"
      ],
      "metadata": {
        "colab": {
          "base_uri": "https://localhost:8080/"
        },
        "id": "ho8JG2hdVhJ4",
        "outputId": "3d386b6b-3462-4118-f304-8464e4d38a6e"
      },
      "execution_count": null,
      "outputs": [
        {
          "output_type": "stream",
          "name": "stdout",
          "text": [
            "['Aubrey', 'Denton', 'Prosper', 'St.Petersburg']\n"
          ]
        }
      ]
    },
    {
      "cell_type": "code",
      "source": [
        "#A list with 3 Animals with a for loop to print each animal\n",
        "Animals = [\"Wolf\", \"Tiger\", \"Giraffe\"]\n",
        "for animal in Animals:\n",
        "  print (animal)"
      ],
      "metadata": {
        "colab": {
          "base_uri": "https://localhost:8080/"
        },
        "id": "bU2GHgWQWhKS",
        "outputId": "656fc3a8-8006-43f0-9775-731112301eff"
      },
      "execution_count": null,
      "outputs": [
        {
          "output_type": "stream",
          "name": "stdout",
          "text": [
            "Wolf\n",
            "Tiger\n",
            "Giraffe\n"
          ]
        }
      ]
    },
    {
      "cell_type": "code",
      "source": [
        "#A list with numbers 1-5 multiplied by 2 with the use of a for loop\n",
        "Numbers = [1,2,3,4,5]\n",
        "for num in Numbers:\n",
        "  result = num * 2\n",
        "  print(result)"
      ],
      "metadata": {
        "colab": {
          "base_uri": "https://localhost:8080/"
        },
        "id": "9ichDkx5WnoM",
        "outputId": "9b4b33ee-16e5-493f-b264-31da0b4c1ada"
      },
      "execution_count": 3,
      "outputs": [
        {
          "output_type": "stream",
          "name": "stdout",
          "text": [
            "2\n",
            "4\n",
            "6\n",
            "8\n",
            "10\n"
          ]
        }
      ]
    },
    {
      "cell_type": "code",
      "source": [
        "#A list with 6 friends split in half\n",
        "Friends = [\"Jacob\",\"David\",\"London\",\"Justin\", \"Kendall\", \"Eli\"]\n",
        "#First 3 friends\n",
        "print(Friends[0:3])\n",
        "#Last 3 friends\n",
        "print(Friends[3:6])"
      ],
      "metadata": {
        "colab": {
          "base_uri": "https://localhost:8080/"
        },
        "id": "g0XEwdyQXFUZ",
        "outputId": "e277c79d-2433-48ec-b2d9-a519d9546740"
      },
      "execution_count": null,
      "outputs": [
        {
          "output_type": "stream",
          "name": "stdout",
          "text": [
            "['Jacob', 'David', 'London']\n",
            "['Justin', 'Kendall', 'Eli']\n"
          ]
        }
      ]
    },
    {
      "cell_type": "code",
      "source": [
        "#Create a list from 1-10 with range()\n",
        "#We do (1,11) to make up for the zero index.\n",
        "for value in range(1,11):\n",
        "  print(value)"
      ],
      "metadata": {
        "colab": {
          "base_uri": "https://localhost:8080/"
        },
        "id": "BBJzmQYbXLVO",
        "outputId": "dc503d31-0d4a-44b3-dc2f-ab5df2a9c23a"
      },
      "execution_count": null,
      "outputs": [
        {
          "output_type": "stream",
          "name": "stdout",
          "text": [
            "1\n",
            "2\n",
            "3\n",
            "4\n",
            "5\n",
            "6\n",
            "7\n",
            "8\n",
            "9\n",
            "10\n"
          ]
        }
      ]
    },
    {
      "cell_type": "code",
      "source": [
        "#Create a list with the squares of numbers from 1-5\n",
        "squares = []\n",
        "for value in range(1, 5):\n",
        " square = value ** 2\n",
        " squares.append(square)\n",
        "print(squares)"
      ],
      "metadata": {
        "colab": {
          "base_uri": "https://localhost:8080/"
        },
        "id": "PSXj5wTlX23F",
        "outputId": "052a1dd6-4387-44c5-ede0-653841af5a2a"
      },
      "execution_count": null,
      "outputs": [
        {
          "output_type": "stream",
          "name": "stdout",
          "text": [
            "[1, 4, 9, 16]\n"
          ]
        }
      ]
    }
  ]
}