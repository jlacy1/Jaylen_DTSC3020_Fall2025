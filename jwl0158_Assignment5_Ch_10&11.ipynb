{
  "cells": [
    {
      "cell_type": "markdown",
      "metadata": {
        "id": "view-in-github",
        "colab_type": "text"
      },
      "source": [
        "<a href=\"https://colab.research.google.com/github/jlacy1/Jaylen_DTSC3020_Fall2025/blob/main/jwl0158_Assignment5_Ch_10%2611.ipynb\" target=\"_parent\"><img src=\"https://colab.research.google.com/assets/colab-badge.svg\" alt=\"Open In Colab\"/></a>"
      ]
    },
    {
      "cell_type": "markdown",
      "id": "9903d230",
      "metadata": {
        "id": "9903d230"
      },
      "source": [
        "# Assignment5: CRM Cleanup @ **DalaShop**\n",
        "*Files (Ch.10), Exceptions (Ch.10), Unit Tests (Ch.11), and Regular Expressions*  \n",
        ".....\n",
        "\n",
        "**Total: 3 points**  (Two questions, 1.5 pts each)  \n",
        "\n",
        "> This assignment is scenario-based and aligned with Python Crash Course Ch.10 (files & exceptions), Ch.11 (unit testing with `unittest`), and Regular Expressions."
      ]
    },
    {
      "cell_type": "markdown",
      "id": "d6487401",
      "metadata": {
        "id": "d6487401"
      },
      "source": [
        "## Scenario\n",
        "You are a data intern at an online retailer called **DalaShop**.  \n",
        "Sales exported a **raw contacts** file from the CRM. It contains customer names, emails, and phone numbers, but the formatting is messy and some emails are invalid.  \n",
        "Your tasks:\n",
        "\n",
        "1. **Clean** the contacts (Files + Exceptions + Regex).  \n",
        "2. **Write unit tests** to make sure your helper functions work correctly and keep working in the future."
      ]
    },
    {
      "cell_type": "markdown",
      "id": "0bd1712f",
      "metadata": {
        "id": "0bd1712f"
      },
      "source": [
        "## Data file (given by the company): `contacts_raw.txt`\n",
        "Use this exact sample data (you may extend it for your own testing, but do **not** change it when submitting).  \n",
        "Run the next cell once to create the file beside your notebook."
      ]
    },
    {
      "cell_type": "code",
      "execution_count": null,
      "id": "c395a1a8",
      "metadata": {
        "id": "c395a1a8"
      },
      "outputs": [],
      "source": [
        "# Create the provided company dataset file\n",
        "with open(\"contacts_raw.txt\", \"w\", encoding=\"utf-8\") as f:\n",
        "    f.write('Alice Johnson <alice@example.com> , +1 (469) 555-1234\\nBob Roberts <bob[at]example.com> , 972-555-777\\nSara M. , sara@mail.co , 214 555 8888\\n\"Mehdi A.\" <mehdi.ay@example.org> , (469)555-9999\\nDelaram <delaram@example.io>, +1-972-777-2121\\nNima <NIMA@example.io> , 972.777.2121\\nduplicate <Alice@Example.com> , 469 555 1234')\n",
        "print(\"Wrote contacts_raw.txt with sample DalaShop data.\")"
      ]
    },
    {
      "cell_type": "markdown",
      "id": "1b535f73",
      "metadata": {
        "id": "1b535f73"
      },
      "source": [
        "## Q1 (1.5 pts) — CRM cleanup with Files, Exceptions, and Regex\n",
        "Implement `q1_crm_cleanup.py` to:\n",
        "\n",
        "1. **Read** `contacts_raw.txt` using `pathlib` and `with`. If the file is missing, **handle** it gracefully with `try/except FileNotFoundError` (print a friendly message; do not crash).\n",
        "2. **Validate emails** with a simple regex (`r\"[A-Za-z0-9._%+-]+@[A-Za-z0-9.-]+\\.[A-Za-z]{2,}\"`).  \n",
        "   - Trim whitespace with `strip()` before checking.  \n",
        "   - Use **full** matching (not partial).\n",
        "3. **Normalize phone numbers:** remove all non-digits (e.g., with `re.sub(r\"\\D\", \"\", raw)`).  \n",
        "   - If the result has **≥ 10 digits**, keep the **last 10 digits**.  \n",
        "   - Otherwise, return an **empty string** (`\"\"`).\n",
        "4. **Filter rows:** keep **only** rows with a valid email.\n",
        "5. **Deduplicate:** remove duplicates by **email** using **case-insensitive** comparison (e.g., `email.casefold()`). **Keep the first occurrence** and drop later duplicates.\n",
        "6. **Output CSV:** write to `contacts_clean.csv` with **columns exactly** `name,email,phone` (UTF-8).  \n",
        "7. **Preserve input order:** the order of rows in `contacts_clean.csv` must match the **first appearance** order from the input file. **Do not sort** the rows.\n",
        "\n",
        "**Grading rubric (1.5 pts):**\n",
        "- (0.4) File read/write via `pathlib` + graceful `FileNotFoundError` handling  \n",
        "- (0.5) Correct email regex validation + filtering  \n",
        "- (0.4) Phone normalization + case-insensitive de-dup (keep first)  \n",
        "- (0.2) Clean code, clear names, minimal docstrings/comments"
      ]
    },
    {
      "cell_type": "code",
      "source": [
        "# Create the sample contacts_raw.txt file\n",
        "\n",
        "\n",
        "with open(\"contacts_raw.txt\", \"w\", encoding=\"utf-8\") as f:\n",
        "  f.write('Alice Johnson <alice@example.com> , +1 (469) 555-1234\\n'\n",
        "            'Bob Roberts <bob[at]example.com> , 972-555-777\\n'\n",
        "            'Sara M. , sara@mail.co , 214 555 8888\\n'\n",
        "            '\"Mehdi A.\" <mehdi.ay@example.org> , (469)555-9999\\n'\n",
        "            'Delaram <delaram@example.io>, +1-972-777-2121\\n'\n",
        "            'Nima <NIMA@example.io> , 972.777.2121\\n'\n",
        "            'duplicate <Alice@Example.com> , 469 555 1234')\n",
        "\n",
        "print(\"Contacts_raw.txt file was created.\")\n",
        "\n",
        "#CRM Cleanup Script along with importing libaries\n",
        "\n",
        "import re\n",
        "import csv\n",
        "from pathlib import Path\n",
        "\n",
        "#Regex package for email validation (Full match only)\n",
        "\n",
        "EMAIL_REGEX = re.compile(r\"[A-Za-z0-9._%+-]+@[A-Za-z0-9.-]+\\.[A-Za-z]{2,}\")\n",
        "\n",
        "def is_valid_email(email: str) -> bool:\n",
        "  \"Returns True if the email matches the regex pattern\"\n",
        "  return bool(EMAIL_REGEX.fullmatch(email.strip()))\n",
        "\n",
        "def normalize_phone(raw: str) -> str:\n",
        "  \"This will remove all non-didgit chracters and return the last 10 digits if available\"\n",
        "  digits = re.sub(r\"\\D\", \"\", raw)\n",
        "  return digits[-10:] if len(digits) > 10 else \" \"\n",
        "\n",
        "\"Here we will read in the raw contacts file amd handle the missing file with try/exception\"\n",
        "def read_contacts(file_path: Path) -> list:\n",
        "    contacts = []\n",
        "    try:\n",
        "        with file_path.open(encoding=\"utf-8\") as f:\n",
        "            for line in f:\n",
        "                parts = line.strip().split(\",\")\n",
        "                if len(parts) != 3:\n",
        "                    continue\n",
        "                name, email, phone = map(str.strip, parts)\n",
        "                if is_valid_email(email):\n",
        "                    contacts.append({\n",
        "                        \"name\": name,\n",
        "                        \"email\": email,\n",
        "                        \"phone\": normalize_phone(phone)\n",
        "                    })\n",
        "    except FileNotFoundError:\n",
        "        print(\"contacts_raw.txt not found. Please check the file location.\")\n",
        "    return contacts\n",
        "#remove duplicate contacts based on email and will be case\n",
        "\n",
        "    def deduplicate_contacts(contacts: list) -> list:\n",
        "      seen = set()\n",
        "      deduped = []\n",
        "      for contact in contacts:\n",
        "        email_key = contact[\"email\"].casefold()\n",
        "        if email_key not in seen:\n",
        "          seen.add(email_key)\n",
        "          deduped.append(contact)\n",
        "          return deduped\n",
        "#This will write the cleaned contacts to a CSV file.\n",
        "    def write_clean_contacts(contacts: list, output_path: Path):\n",
        "      with output_path.open(\"w\", encoding=\"utf-8\", newline=\"\") as f:\n",
        "        writer = csv.DictWriter(f, fieldnames=[\"name\", \"email\", \"phone\"])\n",
        "        writer.writeheader()\n",
        "        for contact in contacts:\n",
        "            writer.writerow(contact)\n",
        "\n",
        "    #The next step will require us to run the clean up process.\n",
        "    #Everything is now tied together and executed as a workflow.\n",
        "\n",
        "    raw_path = Path('contacts_raw.txt')\n",
        "    clean_path - Path(\"contacts_clean.csv\")\n",
        "\n",
        "    contacts = read_contacts(raw_path)\n",
        "    if contacts:\n",
        "      deduped = deduplicate_contacts(contacts)\n",
        "      write_clean_contacts(deduped, clean_path)\n",
        "      print(\"The cleaned contacts have been written to contacts_clean.csv\")\n",
        "    else:\n",
        "      print(\"No valid contacts were found.\")\n",
        "\n",
        "\n",
        "\n",
        "\n"
      ],
      "metadata": {
        "id": "gO9xaHmKNlax",
        "colab": {
          "base_uri": "https://localhost:8080/"
        },
        "outputId": "a4dfd7f5-245a-4670-b146-8a5b51507f56"
      },
      "id": "gO9xaHmKNlax",
      "execution_count": 6,
      "outputs": [
        {
          "output_type": "stream",
          "name": "stdout",
          "text": [
            "Contacts_raw.txt file was created.\n"
          ]
        }
      ]
    },
    {
      "cell_type": "markdown",
      "id": "258c5b04",
      "metadata": {
        "id": "258c5b04"
      },
      "source": [
        "## Q2 (1.5 pts) — Unit testing with `unittest`\n",
        "Create tests in `test_crm_cleanup.py` that cover at least:\n",
        "\n",
        "1. **Email validation**: valid/invalid variations.  \n",
        "2. **Phone normalization**: parentheses, dashes, spaces, country code; too-short cases.  \n",
        "3. **Parsing**: from a small multi-line string (not from a file), assert the exact structured rows (name/email/phone).  \n",
        "4. **De-duplication**: demonstrate that a case-variant duplicate email is dropped (first occurrence kept).\n",
        "\n",
        "\n"
      ]
    },
    {
      "cell_type": "code",
      "source": [
        "import unittest\n",
        "import re\n",
        "from pathlib import Path\n",
        "from io import StringIO\n",
        "\n",
        "class TestCRMFunctions(unittest.TestCase):\n",
        "  #Email validation for vaid and invaliud formats\n",
        "  def test_email_validation_variants(self):\n",
        "        valid_emails = [\n",
        "            \"alice@example.com\",\n",
        "            \"bob.smith+tag@sub.domain.co\",\n",
        "            \"user123@domain.org\",\n",
        "            \"MEHDI.AY@example.org\"\n",
        "        ]\n",
        "        invalid_emails = [\n",
        "            \"bob[at]example.com\",\n",
        "            \"missing@tld\",\n",
        "            \"noatsymbol.com\",\n",
        "            \"user@.com\",\n",
        "            \"user@domain.c\"\n",
        "        ]\n",
        "        for email in valid_emails:\n",
        "            self.assertTrue(is_valid_email(email), f\"Expected valid: {email}\")\n",
        "        for email in invalid_emails:\n",
        "            self.assertFalse(is_valid_email(email), f\"Expected invalid: {email}\")\n",
        "\n",
        "#Phone normalization: formats and edge cases\n",
        "\n",
        "def test_phone_normalization_formats(self):\n",
        "        self.assertEqual(normalize_phone(\"(469) 555-1234\"), \"4695551234\")\n",
        "        self.assertEqual(normalize_phone(\"+1-972-777-2121\"), \"9727772121\")\n",
        "        self.assertEqual(normalize_phone(\"214 555 8888\"), \"2145558888\")\n",
        "        self.assertEqual(normalize_phone(\"972.777.2121\"), \"9727772121\")\n",
        "        self.assertEqual(normalize_phone(\"555-123\"), \"\")\n",
        "        self.assertEqual(normalize_phone(\"+1 (888) 469-555-1234\"), \"4695551234\")\n",
        "\n",
        "#Parsing from string and asserting exact rows\n",
        "\n",
        "def test_parsing_and_structure(self):\n",
        "    sample = (\n",
        "        'Alice Johnson <alice@example.com> , +1 (469) 555-1234\\n'\n",
        "        'Invalid Person <invalid[at]email.com> , 555-123\\n'\n",
        "        'Sara M. , sara@mail.co , 214 555 8888\\n'\n",
        "    )\n",
        "\n",
        "    def mock_open(*args, **kwargs):\n",
        "        return StringIO(sample)\n",
        "\n",
        "    original_open = Path.open\n",
        "    Path.open = mock_open\n",
        "\n",
        "    contacts = read_contacts(Path(\"dummy.txt\"))\n",
        "    Path.open = original_open\n",
        "\n",
        "    expected = [\n",
        "            {\"name\": \"Alice Johnson <alice@example.com>\", \"email\": \"alice@example.com\", \"phone\": \"4695551234\"},\n",
        "            {\"name\": \"Sara M.\", \"email\": \"sara@mail.co\", \"phone\": \"2145558888\"},\n",
        "    ]\n",
        "    self.assertEqual(contacts, expected)\n",
        "\n",
        "\n",
        "\n",
        "#Deduplication by case insensitive email\n",
        "\n",
        "def test_deduplication_by_email(self):\n",
        "    contacts = [\n",
        "        {\"name\": \"Alice\", \"email\": \"alice@example.com\", \"phone\": \"4695551234\"},\n",
        "        {\"name\": \"Duplicate\", \"email\": \"ALICE@EXAMPLE.COM\", \"phone\": \"4695551234\"},\n",
        "        {\"name\": \"Bob\", \"email\": \"bob@example.com\", \"phone\": \"9725557777\"},\n",
        "    ]\n",
        "    deduped = deduplicate_contacts(contacts)\n",
        "    expected = [\n",
        "        {\"name\": \"Alice\", \"email\": \"alice@example.com\", \"phone\": \"4695551234\"},\n",
        "        {\"name\": \"Bob\", \"email\": \"bob@example.com\", \"phone\": \"9725557777\"},\n",
        "    ]\n",
        "    self.assertEqual(deduped, expected)\n",
        "\n",
        "# Run the tests\n",
        "\n",
        "unittest.main(argv=[''], exit=False)\n",
        "\n"
      ],
      "metadata": {
        "id": "_M18cJw2NqZm",
        "colab": {
          "base_uri": "https://localhost:8080/"
        },
        "outputId": "7bb828ba-d898-40e4-a600-0d56a3102523"
      },
      "id": "_M18cJw2NqZm",
      "execution_count": 9,
      "outputs": [
        {
          "output_type": "stream",
          "name": "stderr",
          "text": [
            ".\n",
            "----------------------------------------------------------------------\n",
            "Ran 1 test in 0.001s\n",
            "\n",
            "OK\n"
          ]
        },
        {
          "output_type": "execute_result",
          "data": {
            "text/plain": [
              "<unittest.main.TestProgram at 0x798697496150>"
            ]
          },
          "metadata": {},
          "execution_count": 9
        }
      ]
    },
    {
      "cell_type": "markdown",
      "id": "f38af38b",
      "metadata": {
        "id": "f38af38b"
      },
      "source": [
        "## Grading rubric (total 3 pts)\n",
        "- **Q1 (1.5 pts)**  \n",
        "  - (0.4) File I/O with `pathlib` + graceful `FileNotFoundError` handling  \n",
        "  - (0.5) Email validation (regex + strip + full match) and filtering  \n",
        "  - (0.4) Phone normalization and **case-insensitive** de-duplication (keep first)  \n",
        "  - (0.2) Code clarity (names, minimal docstrings/comments)\n",
        "- **Q2 (1.5 pts)**  \n",
        "  - (0.6) Meaningful coverage for email/phone functions (valid & invalid)  \n",
        "  - (0.6) Parsing & de-dup tests that assert exact expected rows  \n",
        "  - (0.3) Standard `unittest` structure and readable test names\n"
      ]
    }
  ],
  "metadata": {
    "colab": {
      "provenance": [],
      "include_colab_link": true
    },
    "language_info": {
      "name": "python"
    },
    "kernelspec": {
      "name": "python3",
      "display_name": "Python 3"
    }
  },
  "nbformat": 4,
  "nbformat_minor": 5
}