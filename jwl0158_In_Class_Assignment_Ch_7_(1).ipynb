{
  "nbformat": 4,
  "nbformat_minor": 0,
  "metadata": {
    "colab": {
      "provenance": [],
      "include_colab_link": true
    },
    "kernelspec": {
      "name": "python3",
      "display_name": "Python 3"
    },
    "language_info": {
      "name": "python"
    }
  },
  "cells": [
    {
      "cell_type": "markdown",
      "metadata": {
        "id": "view-in-github",
        "colab_type": "text"
      },
      "source": [
        "<a href=\"https://colab.research.google.com/github/jlacy1/Jaylen_DTSC3020_Fall2025/blob/main/jwl0158_In_Class_Assignment_Ch_7_(1).ipynb\" target=\"_parent\"><img src=\"https://colab.research.google.com/assets/colab-badge.svg\" alt=\"Open In Colab\"/></a>"
      ]
    },
    {
      "cell_type": "markdown",
      "source": [
        "#Write a Python program that simulates a self-checkout system.**\n",
        "Use this price list: prices: apple= 1 ,  bread= 2.5 ,  milk=5 ,  egg= 6\n",
        "\n",
        "Program requirements:\n",
        "\n",
        "The program should repeatedly ask the user to enter an item name or enter \"pay\".\n",
        "\n",
        "\n",
        "• Valid inputs are the names of the **items above ** or the word \"pay\".\n",
        "\n",
        "\n",
        "If the entered item exists in the price list:\n",
        "\n",
        "• Add its price to the running total.\n",
        "\n",
        "\n",
        "• Print the message: \"Added , running total: $\".\n",
        "\n",
        "\n",
        "If the entered item does not exist in the price list:\n",
        "\n",
        "• Print \"Item not found\".\n",
        "\n",
        "If the user types \"pay\":\n",
        "\n",
        "• Stop asking for input.\n",
        "\n",
        "Show the following three values:\n",
        "\n",
        "\n",
        "**Subtotal: the sum of all valid items entered.**\n",
        "\n",
        "**Tax: 8% of the subtotal. (0.08 * total)**\n",
        "\n",
        "**Final total: subtotal + tax.**\n",
        "\n",
        "\n",
        "Run your program with this purchase list. For example, for one person whose purchase is:apple, pizza, bread, pay *italicised text*"
      ],
      "metadata": {
        "id": "t1xs1X02Owtz"
      }
    },
    {
      "cell_type": "code",
      "execution_count": 6,
      "metadata": {
        "id": "nTH6mvq1OqHP",
        "colab": {
          "base_uri": "https://localhost:8080/"
        },
        "outputId": "4f102744-6ed3-49db-ccdb-930f4a3142bc"
      },
      "outputs": [
        {
          "output_type": "stream",
          "name": "stdout",
          "text": [
            "Enter an Item name or 'pay' to finish the list: apple\n",
            "Added, running total: $1\n",
            "Enter an Item name or 'pay' to finish the list: bread\n",
            "Added, running total: $3.5\n",
            "Enter an Item name or 'pay' to finish the list: pay\n",
            "final 3.5\n",
            "Tax 0.28\n",
            "Final Total: $3.7800000000000002\n"
          ]
        }
      ],
      "source": [
        "# write your code here\n",
        "\n",
        "prices = {'apple': 1, 'bread': 2.5, 'milk': 5, 'egg': 6}\n",
        "\n",
        "running_total = 0\n",
        "\n",
        "while True:\n",
        "  item = input(\"Enter an Item name or 'pay' to finish the list: \")\n",
        "  if item == 'pay':\n",
        "    break\n",
        "  elif item in prices:\n",
        "    running_total += prices[item]\n",
        "    print(f\"Added, running total: ${running_total}\")\n",
        "  else:\n",
        "    print(\"Item not found\")\n",
        "\n",
        "print(f\"final {running_total}\")\n",
        "print(f\"Tax {running_total * 0.08}\")\n",
        "print(f\"Final Total: ${running_total + running_total * 0.08}\")\n"
      ]
    },
    {
      "cell_type": "code",
      "source": [],
      "metadata": {
        "id": "UWDz36WD1oKx"
      },
      "execution_count": null,
      "outputs": []
    }
  ]
}