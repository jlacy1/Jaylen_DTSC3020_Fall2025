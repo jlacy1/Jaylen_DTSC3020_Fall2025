{
  "nbformat": 4,
  "nbformat_minor": 0,
  "metadata": {
    "colab": {
      "provenance": [],
      "authorship_tag": "ABX9TyNaELo2U70+BHuobz2JvI7S",
      "include_colab_link": true
    },
    "kernelspec": {
      "name": "python3",
      "display_name": "Python 3"
    },
    "language_info": {
      "name": "python"
    }
  },
  "cells": [
    {
      "cell_type": "markdown",
      "metadata": {
        "id": "view-in-github",
        "colab_type": "text"
      },
      "source": [
        "<a href=\"https://colab.research.google.com/github/jlacy1/Jaylen_DTSC3020_Fall2025/blob/main/Introduction_to_Print.ipynb\" target=\"_parent\"><img src=\"https://colab.research.google.com/assets/colab-badge.svg\" alt=\"Open In Colab\"/></a>"
      ]
    },
    {
      "cell_type": "code",
      "execution_count": 2,
      "metadata": {
        "colab": {
          "base_uri": "https://localhost:8080/"
        },
        "id": "KTqgk5I6PyWD",
        "outputId": "7655ea4e-694e-4c57-8b3b-31f4da44bd61"
      },
      "outputs": [
        {
          "output_type": "stream",
          "name": "stdout",
          "text": [
            "Welcome to Python\n"
          ]
        }
      ],
      "source": [
        "print(\"Welcome to Python\")\n"
      ]
    },
    {
      "cell_type": "code",
      "source": [
        "name=\"jaylen\""
      ],
      "metadata": {
        "id": "zagwyF1FTK5M"
      },
      "execution_count": 4,
      "outputs": []
    },
    {
      "cell_type": "code",
      "source": [
        "print(name)"
      ],
      "metadata": {
        "colab": {
          "base_uri": "https://localhost:8080/"
        },
        "id": "iC2NzeLGTPW9",
        "outputId": "22166948-38a1-4e3d-ca85-401f41d8f4fb"
      },
      "execution_count": 5,
      "outputs": [
        {
          "output_type": "stream",
          "name": "stdout",
          "text": [
            "jaylen\n"
          ]
        }
      ]
    },
    {
      "cell_type": "code",
      "source": [
        "Fname = name\n",
        "print(\"Welcome to python\", name)\n"
      ],
      "metadata": {
        "colab": {
          "base_uri": "https://localhost:8080/"
        },
        "id": "tBRz8RYjTznS",
        "outputId": "85ef800e-fa4c-4507-b0f0-caf227debb1e"
      },
      "execution_count": 10,
      "outputs": [
        {
          "output_type": "stream",
          "name": "stdout",
          "text": [
            "Welcome to python jaylen\n"
          ]
        }
      ]
    }
  ]
}